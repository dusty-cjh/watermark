{
 "cells": [
  {
   "cell_type": "markdown",
   "source": [
    "$bps=8, fps=25$\n",
    "<br>\n",
    "$BitIndex=(0 \\to FrameCounts) \\frac{25}{8}$\n",
    "\n",
    "根据时间提取水印，每秒插入一byte，当采样率变化时，插入水印的帧不会随之变化。\n",
    "首先计算出提取水印所需的总视频时长，然后根据该时长生成水印索引，最后根据该索引循环将 bit 嵌入视频帧。\n",
    "提取水印时同样按照上面的方法先对视频生成水印bit索引，然后根据 bit 索引计算视频帧中的 bit 和已知 bit 的相关性。\n",
    "最终求得相关性最高的一组数据，即为最终的视频水印。\n",
    "这里需要已知原视频水印的大小，并需要在水印插入时提供一个固定的前缀。"
   ],
   "metadata": {
    "collapsed": false
   }
  },
  {
   "cell_type": "code",
   "execution_count": 100,
   "metadata": {
    "collapsed": true
   },
   "outputs": [
    {
     "name": "stdout",
     "output_type": "stream",
     "text": [
      "24\n"
     ]
    },
    {
     "data": {
      "text/plain": "b'3\\xb8\\xac\\xc37\\n\\xf6D\\x8ej\\x1d'"
     },
     "execution_count": 100,
     "metadata": {},
     "output_type": "execute_result"
    }
   ],
   "source": [
    "import matplotlib.pyplot as plt\n",
    "import numpy as np\n",
    "from models.hamming_code import encode, decode\n",
    "\n",
    "def get_encoded_data_index(src_data_bit_size, shuffle_seed=None):\n",
    "    \"\"\"get index of embedded data in hamming codes, the returned idx is unordered\"\"\"\n",
    "    data = np.arange(src_data_bit_size).reshape((4, -1))\n",
    "    ret = np.ones((7, data.size//4), dtype=int) * -1\n",
    "    ret[2] = data[0]\n",
    "    ret[4:] = data[1:]\n",
    "    ret = ret.flatten()\n",
    "\n",
    "    # shuffle bits\n",
    "    if shuffle_seed is not None:\n",
    "        seed = int.from_bytes(md5(shuffle_seed).digest(), 'little') % 2**32\n",
    "        rand = np.random.RandomState(seed)\n",
    "        rand.shuffle(ret)\n",
    "\n",
    "    idx = np.argwhere(ret >= 0).flatten()\n",
    "    idx = np.array(sorted(idx, key=lambda i: ret[i]))\n",
    "    return idx\n",
    "\n",
    "def parse_watermark(wm_restore, wm, wm_prefix_bits, bps, fps, pwd=b'123456'):\n",
    "    \"\"\"Confidence can be estimated by the dividing of max correlativity var and mean var \"\"\"\n",
    "    if isinstance(wm, bytes):\n",
    "        wm_size = len(wm) * 8\n",
    "    elif isinstance(wm, np.ndarray):\n",
    "        wm_size = wm.size\n",
    "    else:\n",
    "        raise ValueError('wm only support bytes and ndarray')\n",
    "\n",
    "    # get embedded watermark sequence\n",
    "    wm = encode(wm).astype(float)\n",
    "    wm[wm == 0] = -1\n",
    "    idx = get_encoded_data_index(wm_size, shuffle_seed=pwd)\n",
    "    idx = idx[:wm_prefix_bits]\n",
    "    wm[idx] *= 10\n",
    "    wm_bits_index = np.round((np.arange(wm_restore.size) * fps[1] * bps) / fps[0]).astype(int)\n",
    "    wm_bits_index = wm_bits_index[wm_bits_index < wm.size]\n",
    "    wm_embed = wm[wm_bits_index]\n",
    "\n",
    "    # restore bit shifting info\n",
    "    correlativity = []\n",
    "    for i in range(wm_embed.size):\n",
    "        tmp = np.roll(wm_embed, i)\n",
    "        corr = (tmp * wm_restore[:wm_embed.size]).sum()\n",
    "        correlativity.append(corr)\n",
    "    i = np.argmax(correlativity)\n",
    "    # get wm frame from wm stream\n",
    "    wm_restore_frame = np.zeros(wm_embed.size)\n",
    "    tmp = wm_restore[i:i+wm_embed.size]\n",
    "    wm_restore_frame[:tmp.size] = tmp\n",
    "    if tmp.size < wm_restore_frame.size:\n",
    "        wm_restore_frame[-i:] = wm_restore[:i]\n",
    "    # shrink wm info which was amplified by time factor during embedding\n",
    "    wm_ext = np.zeros(wm.size)\n",
    "    wm_ext[wm_bits_index] += wm_restore_frame\n",
    "    return decode(wm_ext>0, shuffle_seed=pwd)\n",
    "\n",
    "wm_restore = np.load('../data/wm_bits.npy')\n",
    "bits_per_second = 8*1\n",
    "fps = [25,1]\n",
    "parse_watermark(wm_restore, b'hel00000000', bps=bits_per_second, fps=fps, wm_prefix_bits=3*8)"
   ]
  },
  {
   "cell_type": "code",
   "execution_count": 83,
   "outputs": [
    {
     "data": {
      "text/plain": "b'hel'"
     },
     "execution_count": 83,
     "metadata": {},
     "output_type": "execute_result"
    }
   ],
   "source": [
    "import numpy as np\n",
    "from hashlib import md5\n",
    "\n",
    "\n",
    "def get_encoded_data_index(src_data_bit_size, shuffle_seed=None):\n",
    "    \"\"\"get index of embedded data in hamming codes, the returned idx is unordered\"\"\"\n",
    "    data = np.arange(src_data_bit_size).reshape((4, -1))\n",
    "    ret = np.ones((7, data.size//4), dtype=int) * -1\n",
    "    ret[2] = data[0]\n",
    "    ret[4:] = data[1:]\n",
    "    ret = ret.flatten()\n",
    "\n",
    "    # shuffle bits\n",
    "    if shuffle_seed is not None:\n",
    "        seed = int.from_bytes(md5(shuffle_seed).digest(), 'little') % 2**32\n",
    "        rand = np.random.RandomState(seed)\n",
    "        rand.shuffle(ret)\n",
    "\n",
    "    idx = np.argwhere(ret >= 0).flatten()\n",
    "    idx = np.array(sorted(idx, key=lambda i: ret[i]))\n",
    "    return idx\n",
    "\n",
    "\n",
    "data = b'hello world'\n",
    "pwd = b'jf93qfj9p4894fn'\n",
    "pkt = encode(data, shuffle_seed=pwd)\n",
    "\n",
    "idx = get_encoded_data_index(88, shuffle_seed=pwd)[:24]\n",
    "np.packbits(pkt[idx]).tobytes()"
   ],
   "metadata": {
    "collapsed": false
   }
  }
 ],
 "metadata": {
  "kernelspec": {
   "display_name": "Python 3",
   "language": "python",
   "name": "python3"
  },
  "language_info": {
   "codemirror_mode": {
    "name": "ipython",
    "version": 2
   },
   "file_extension": ".py",
   "mimetype": "text/x-python",
   "name": "python",
   "nbconvert_exporter": "python",
   "pygments_lexer": "ipython2",
   "version": "2.7.6"
  }
 },
 "nbformat": 4,
 "nbformat_minor": 0
}

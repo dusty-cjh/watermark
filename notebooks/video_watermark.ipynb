{
 "cells": [
  {
   "cell_type": "code",
   "execution_count": 1,
   "outputs": [],
   "source": [
    "import ffmpeg\n",
    "import numpy as np\n",
    "from torch.utils.data import DataLoader, Dataset\n",
    "\n",
    "\n",
    "class VideoStreamDataset(Dataset):\n",
    "    _closed = False\n",
    "\n",
    "    def __init__(self, filename, dst_filename, batch_size=1):\n",
    "        probe = ffmpeg.probe(filename)\n",
    "        # get first video channel\n",
    "        video_stream = next((stream for stream in probe['streams'] if stream['codec_type'] == 'video'), None)\n",
    "        self.probe = probe\n",
    "        self.video_stream = video_stream\n",
    "        self.inhale = (\n",
    "            ffmpeg\n",
    "            .input(filename)\n",
    "            .output('pipe:', format='rawvideo', pix_fmt='rgb24', vframes=batch_size)\n",
    "            .run_async(pipe_stdout=True)\n",
    "        )\n",
    "        self.width = int(video_stream['width'])\n",
    "        self.height = int(video_stream['height'])\n",
    "        self.exhale = (\n",
    "            ffmpeg\n",
    "            .input('pipe:', format='rawvideo', pix_fmt='rgb24', s='{}x{}'.format(self.width, self.height))\n",
    "            .output(dst_filename, pix_fmt='yuv420p')\n",
    "            .overwrite_output()\n",
    "            .run_async(pipe_stdin=True)\n",
    "        )\n",
    "\n",
    "    def __getitem__(self, i):\n",
    "        in_bytes = self.inhale.stdout.read(self.width * self.height * 3)\n",
    "        if not in_bytes:\n",
    "            raise IndexError('video frame out of range')\n",
    "        in_frame = (\n",
    "            np\n",
    "            .frombuffer(in_bytes, np.uint8)\n",
    "            .reshape([self.height, self.width, 3])\n",
    "        )\n",
    "        print(in_frame.shape, in_frame.dtype, np.percentile(in_frame, (0,100)))\n",
    "        return in_frame\n",
    "\n",
    "    def __len__(self):\n",
    "        pass\n",
    "\n",
    "    def write_frame(self, frame):\n",
    "        self.exhale.stdin.write(\n",
    "            frame\n",
    "            .astype(np.uint8)\n",
    "            .tobytes()\n",
    "        )\n",
    "\n",
    "    def close(self):\n",
    "        if not self._closed:\n",
    "            self._closed = True\n",
    "            self.exhale.stdin.close()\n",
    "            self.inhale.wait()\n",
    "            self.exhale.wait()\n",
    "\n",
    "    def __del__(self):\n",
    "        self.close()\n"
   ],
   "metadata": {
    "collapsed": false
   }
  },
  {
   "cell_type": "markdown",
   "source": [
    "read video frame by OpenCV, embed wm, then write to file\n",
    "extract wm later"
   ],
   "metadata": {
    "collapsed": false
   }
  },
  {
   "cell_type": "code",
   "execution_count": 3,
   "outputs": [],
   "source": [],
   "metadata": {
    "collapsed": false
   }
  }
 ],
 "metadata": {
  "kernelspec": {
   "display_name": "Python 3",
   "language": "python",
   "name": "python3"
  },
  "language_info": {
   "codemirror_mode": {
    "name": "ipython",
    "version": 2
   },
   "file_extension": ".py",
   "mimetype": "text/x-python",
   "name": "python",
   "nbconvert_exporter": "python",
   "pygments_lexer": "ipython2",
   "version": "2.7.6"
  }
 },
 "nbformat": 4,
 "nbformat_minor": 0
}

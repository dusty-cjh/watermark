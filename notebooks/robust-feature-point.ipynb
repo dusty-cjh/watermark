{
 "cells": [
  {
   "cell_type": "code",
   "execution_count": 87,
   "metadata": {
    "collapsed": true
   },
   "outputs": [
    {
     "name": "stdout",
     "output_type": "stream",
     "text": [
      "error rate: 0.17857142857142858\n",
      "error rate: 0.1488095238095238\n",
      "error rate: 0.11202686202686203\n",
      "error rate: 0.1580942205942206\n",
      "error rate: 0.18102083102083102\n",
      "error rate: 0.16751735918402585\n",
      "error rate: 0.15379038950467522\n",
      "error rate: 0.15059223184223183\n",
      "error rate: 0.14152259688658153\n",
      "error rate: 0.1273703371979234\n",
      "error rate: 0.1261217941468725\n",
      "error rate: 0.1390491446346331\n",
      "error rate: 0.1406607488935075\n",
      "error rate: 0.13881027385544664\n",
      "error rate: 0.1591858852280465\n",
      "error rate: 0.1617367674012936\n",
      "error rate: 0.15773754578945282\n",
      "error rate: 0.15095847578527685\n",
      "error rate: 0.158925165554228\n",
      "error rate: 0.15290198419959353\n",
      "error rate: 0.15355744526945414\n",
      "error rate: 0.15380896635224756\n",
      "error rate: 0.15715506480515987\n",
      "error rate: 0.1586197576177654\n",
      "error rate: 0.15692613010375248\n",
      "error rate: 0.15363776246239935\n",
      "error rate: 0.15323848025479728\n",
      "error rate: 0.15892639167426878\n",
      "error rate: 0.15667892989239746\n",
      "error rate: 0.1551600025996879\n",
      "error rate: 0.15245898869094218\n",
      "error rate: 0.15186131196101693\n",
      "error rate: 0.14900770577105604\n",
      "error rate: 0.15092764719795776\n",
      "error rate: 0.15296463505579388\n",
      "error rate: 0.15951808655115765\n",
      "error rate: 0.1587320513094695\n",
      "error rate: 0.16412427005491406\n",
      "error rate: 0.1615185195406855\n",
      "error rate: 0.15998055655216833\n",
      "error rate: 0.15883232897300453\n",
      "error rate: 0.15579465447364726\n",
      "error rate: 0.15715491167857906\n",
      "error rate: 0.16267411823133865\n",
      "error rate: 0.1609503907812805\n",
      "error rate: 0.16262745267941003\n",
      "error rate: 0.16752595672574477\n",
      "error rate: 0.1658740679214094\n",
      "error rate: 0.16356299671785757\n",
      "error rate: 0.1652917367835004\n",
      "error rate: 0.16765296323312368\n",
      "error rate: 0.16612570036551835\n",
      "error rate: 0.16613590727686076\n",
      "error rate: 0.16537413121617814\n",
      "error rate: 0.16424820657337616\n",
      "error rate: 0.1661228951922582\n",
      "error rate: 0.1661324350426864\n",
      "error rate: 0.1649366032927847\n",
      "error rate: 0.16779078515787876\n",
      "error rate: 0.16638316096080302\n",
      "error rate: 0.16570474848603575\n"
     ]
    },
    {
     "ename": "KeyboardInterrupt",
     "evalue": "",
     "output_type": "error",
     "traceback": [
      "\u001B[0;31m---------------------------------------------------------------------------\u001B[0m",
      "\u001B[0;31mKeyboardInterrupt\u001B[0m                         Traceback (most recent call last)",
      "Cell \u001B[0;32mIn [87], line 20\u001B[0m\n\u001B[1;32m     18\u001B[0m cv\u001B[38;5;241m.\u001B[39mimwrite(file, img, [cv\u001B[38;5;241m.\u001B[39mIMWRITE_JPEG_QUALITY, \u001B[38;5;241m50\u001B[39m]),\n\u001B[1;32m     19\u001B[0m img \u001B[38;5;241m=\u001B[39m cv\u001B[38;5;241m.\u001B[39mimread(file)\n\u001B[0;32m---> 20\u001B[0m kp2 \u001B[38;5;241m=\u001B[39m \u001B[43mts\u001B[49m\u001B[38;5;241;43m.\u001B[39;49m\u001B[43mselect_image_area2\u001B[49m\u001B[43m(\u001B[49m\u001B[43mimg\u001B[49m\u001B[43m)\u001B[49m\n\u001B[1;32m     21\u001B[0m k \u001B[38;5;241m=\u001B[39m \u001B[38;5;28mmin\u001B[39m(kp1\u001B[38;5;241m.\u001B[39msize, kp2\u001B[38;5;241m.\u001B[39msize)\u001B[38;5;241m/\u001B[39m\u001B[38;5;241m/\u001B[39m\u001B[38;5;241m3\u001B[39m\n\u001B[1;32m     22\u001B[0m diff \u001B[38;5;241m=\u001B[39m ((kp1[:k] \u001B[38;5;241m-\u001B[39m kp2[:k])\u001B[38;5;241m.\u001B[39msum(axis\u001B[38;5;241m=\u001B[39m\u001B[38;5;241m-\u001B[39m\u001B[38;5;241m1\u001B[39m) \u001B[38;5;241m==\u001B[39m \u001B[38;5;241m0\u001B[39m)\u001B[38;5;241m.\u001B[39msum()\n",
      "File \u001B[0;32m~/PycharmProjects/watermark/models/transforms.py:715\u001B[0m, in \u001B[0;36mselect_image_area2\u001B[0;34m(img, savefile, diameter)\u001B[0m\n\u001B[1;32m    713\u001B[0m \u001B[38;5;28;01mif\u001B[39;00m kp[i\u001B[38;5;241m+\u001B[39m\u001B[38;5;241m1\u001B[39m\u001B[38;5;241m+\u001B[39mn] \u001B[38;5;129;01mis\u001B[39;00m \u001B[38;5;28;01mNone\u001B[39;00m:\n\u001B[1;32m    714\u001B[0m     \u001B[38;5;28;01mcontinue\u001B[39;00m\n\u001B[0;32m--> 715\u001B[0m \u001B[38;5;28;01mif\u001B[39;00m \u001B[43moverlap\u001B[49m\u001B[43m(\u001B[49m\u001B[43mkp\u001B[49m\u001B[43m[\u001B[49m\u001B[43mi\u001B[49m\u001B[43m]\u001B[49m\u001B[43m,\u001B[49m\u001B[43m \u001B[49m\u001B[43mkp\u001B[49m\u001B[43m[\u001B[49m\u001B[43mi\u001B[49m\u001B[38;5;241;43m+\u001B[39;49m\u001B[38;5;241;43m1\u001B[39;49m\u001B[38;5;241;43m+\u001B[39;49m\u001B[43mn\u001B[49m\u001B[43m]\u001B[49m\u001B[43m)\u001B[49m \u001B[38;5;241m!=\u001B[39m \u001B[38;5;241m0\u001B[39m:\n\u001B[1;32m    716\u001B[0m     \u001B[38;5;28;01mif\u001B[39;00m kp[i]\u001B[38;5;241m.\u001B[39mresponse \u001B[38;5;241m>\u001B[39m\u001B[38;5;241m=\u001B[39m kp[i\u001B[38;5;241m+\u001B[39m\u001B[38;5;241m1\u001B[39m\u001B[38;5;241m+\u001B[39mn]\u001B[38;5;241m.\u001B[39mresponse:\n\u001B[1;32m    717\u001B[0m         kp[i\u001B[38;5;241m+\u001B[39m\u001B[38;5;241m1\u001B[39m\u001B[38;5;241m+\u001B[39mn] \u001B[38;5;241m=\u001B[39m \u001B[38;5;28;01mNone\u001B[39;00m\n",
      "File \u001B[0;32m~/PycharmProjects/watermark/models/transforms.py:704\u001B[0m, in \u001B[0;36mselect_image_area2.<locals>.overlap\u001B[0;34m(x, y)\u001B[0m\n\u001B[1;32m    702\u001B[0m x \u001B[38;5;241m=\u001B[39m np\u001B[38;5;241m.\u001B[39marray(x\u001B[38;5;241m.\u001B[39mpt)\n\u001B[1;32m    703\u001B[0m y \u001B[38;5;241m=\u001B[39m np\u001B[38;5;241m.\u001B[39marray(y\u001B[38;5;241m.\u001B[39mpt)\n\u001B[0;32m--> 704\u001B[0m \u001B[38;5;28;01mreturn\u001B[39;00m \u001B[38;5;28mint\u001B[39m(np\u001B[38;5;241m.\u001B[39msqrt(\u001B[43m(\u001B[49m\u001B[43m(\u001B[49m\u001B[43mx\u001B[49m\u001B[43m \u001B[49m\u001B[38;5;241;43m-\u001B[39;49m\u001B[43m \u001B[49m\u001B[43my\u001B[49m\u001B[43m)\u001B[49m\u001B[38;5;241;43m*\u001B[39;49m\u001B[38;5;241;43m*\u001B[39;49m\u001B[38;5;241;43m2\u001B[39;49m\u001B[43m)\u001B[49m\u001B[38;5;241;43m.\u001B[39;49m\u001B[43msum\u001B[49m\u001B[43m(\u001B[49m\u001B[43m)\u001B[49m) \u001B[38;5;241m<\u001B[39m\u001B[38;5;241m=\u001B[39m diameter)\n",
      "File \u001B[0;32m~/Library/Python/3.9/lib/python/site-packages/numpy/core/_methods.py:48\u001B[0m, in \u001B[0;36m_sum\u001B[0;34m(a, axis, dtype, out, keepdims, initial, where)\u001B[0m\n\u001B[1;32m     46\u001B[0m \u001B[38;5;28;01mdef\u001B[39;00m \u001B[38;5;21m_sum\u001B[39m(a, axis\u001B[38;5;241m=\u001B[39m\u001B[38;5;28;01mNone\u001B[39;00m, dtype\u001B[38;5;241m=\u001B[39m\u001B[38;5;28;01mNone\u001B[39;00m, out\u001B[38;5;241m=\u001B[39m\u001B[38;5;28;01mNone\u001B[39;00m, keepdims\u001B[38;5;241m=\u001B[39m\u001B[38;5;28;01mFalse\u001B[39;00m,\n\u001B[1;32m     47\u001B[0m          initial\u001B[38;5;241m=\u001B[39m_NoValue, where\u001B[38;5;241m=\u001B[39m\u001B[38;5;28;01mTrue\u001B[39;00m):\n\u001B[0;32m---> 48\u001B[0m     \u001B[38;5;28;01mreturn\u001B[39;00m \u001B[43mumr_sum\u001B[49m\u001B[43m(\u001B[49m\u001B[43ma\u001B[49m\u001B[43m,\u001B[49m\u001B[43m \u001B[49m\u001B[43maxis\u001B[49m\u001B[43m,\u001B[49m\u001B[43m \u001B[49m\u001B[43mdtype\u001B[49m\u001B[43m,\u001B[49m\u001B[43m \u001B[49m\u001B[43mout\u001B[49m\u001B[43m,\u001B[49m\u001B[43m \u001B[49m\u001B[43mkeepdims\u001B[49m\u001B[43m,\u001B[49m\u001B[43m \u001B[49m\u001B[43minitial\u001B[49m\u001B[43m,\u001B[49m\u001B[43m \u001B[49m\u001B[43mwhere\u001B[49m\u001B[43m)\u001B[49m\n",
      "\u001B[0;31mKeyboardInterrupt\u001B[0m: "
     ]
    }
   ],
   "source": [
    "import numpy as np\n",
    "import cv2 as cv\n",
    "from importlib import reload\n",
    "from models import transforms as ts\n",
    "from models.dataset import OriginalImageDataset\n",
    "ts = reload(ts)\n",
    "\n",
    "\n",
    "dataset = OriginalImageDataset('/Users/jiahao.chen/Downloads/wm-nowm/valid/no-watermark',\n",
    "                               transform=ts.ToFormat())\n",
    "\n",
    "err_rate = 0.\n",
    "for i, img in enumerate(dataset):\n",
    "    # if i < 1000:\n",
    "    #     continue\n",
    "    kp1 = ts.select_image_area2(img, savefile='../data/kp.jpg')\n",
    "    file = '../data/dst.jpg'\n",
    "    cv.imwrite(file, img, [cv.IMWRITE_JPEG_QUALITY, 50]),\n",
    "    img = cv.imread(file)\n",
    "    kp2 = ts.select_image_area2(img)\n",
    "    k = min(kp1.size, kp2.size)//3\n",
    "    diff = ((kp1[:k] - kp2[:k]).sum(axis=-1) == 0).sum()\n",
    "    err_rate += diff / k\n",
    "    # print(kp1[:k] - kp2[:k])\n",
    "    print('error rate:', err_rate / (i+1))\n",
    "    # break"
   ]
  }
 ],
 "metadata": {
  "kernelspec": {
   "display_name": "Python 3",
   "language": "python",
   "name": "python3"
  },
  "language_info": {
   "codemirror_mode": {
    "name": "ipython",
    "version": 2
   },
   "file_extension": ".py",
   "mimetype": "text/x-python",
   "name": "python",
   "nbconvert_exporter": "python",
   "pygments_lexer": "ipython2",
   "version": "2.7.6"
  }
 },
 "nbformat": 4,
 "nbformat_minor": 0
}
